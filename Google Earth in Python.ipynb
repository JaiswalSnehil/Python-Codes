{
 "cells": [
  {
   "cell_type": "code",
   "execution_count": 15,
   "id": "0abceba8",
   "metadata": {},
   "outputs": [],
   "source": [
    "import webbrowser"
   ]
  },
  {
   "cell_type": "code",
   "execution_count": 16,
   "id": "8ba70861",
   "metadata": {},
   "outputs": [],
   "source": [
    "# Specify the url for Google Earth\n",
    "google_earth_url = \"https://earth.google.com/\""
   ]
  },
  {
   "cell_type": "code",
   "execution_count": 17,
   "id": "258b2f39",
   "metadata": {},
   "outputs": [
    {
     "data": {
      "text/plain": [
       "True"
      ]
     },
     "execution_count": 17,
     "metadata": {},
     "output_type": "execute_result"
    }
   ],
   "source": [
    "# Open Google Earth in the default webbrowser\n",
    "webbrowser.open(google_earth_url)"
   ]
  },
  {
   "cell_type": "code",
   "execution_count": null,
   "id": "228713eb",
   "metadata": {},
   "outputs": [],
   "source": []
  }
 ],
 "metadata": {
  "kernelspec": {
   "display_name": "Python 3 (ipykernel)",
   "language": "python",
   "name": "python3"
  },
  "language_info": {
   "codemirror_mode": {
    "name": "ipython",
    "version": 3
   },
   "file_extension": ".py",
   "mimetype": "text/x-python",
   "name": "python",
   "nbconvert_exporter": "python",
   "pygments_lexer": "ipython3",
   "version": "3.11.5"
  }
 },
 "nbformat": 4,
 "nbformat_minor": 5
}
